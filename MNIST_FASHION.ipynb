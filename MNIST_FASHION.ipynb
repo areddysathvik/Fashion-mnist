{
 "cells": [
  {
   "cell_type": "markdown",
   "id": "a656d570",
   "metadata": {},
   "source": [
    "# 1. Problem statement :\n",
    "            \n",
    "Problem-Type : Multi-Class Image Classification\n",
    "        \n",
    "Given a fashion realted images and our goal is to classify them into their actual corresponding label.\n",
    "This problem can be useful in Ecommerce website/any other shooping websites or search engines as a feature of finding the type of items the customers looking for.\n",
    "\n",
    "In This case, problem is limited to only 10 labels they are\n",
    "            \tT-shirt/top,\n",
    "           \tTrouser,\n",
    "             \tPullover,\n",
    "             \tDress,\n",
    "             \tCoat,\n",
    "             \tSandal,\n",
    "             \tShirt,\n",
    "             \tSneaker,\n",
    "             \tBag,\n",
    "             \tAnkle boot."
   ]
  },
  {
   "cell_type": "markdown",
   "id": "0f35ba9f",
   "metadata": {},
   "source": [
    "# 2. Data and information\n",
    "The Dataset used in training was downloaded from tensorflow and the name of the dataset is FASHION_MNIST dataset which provides\n",
    "both training and test sets containing 60000 instances.\n",
    "\n",
    "The size of the pixels provided in both train and test sets are (28 X 28 pixels) of greyscale images which is of only single channel and a label that can have a number ranging between (0-9) i.e., 10 multi-class labels\n",
    "and the numbers corresponding to the image has their own names listed below\n",
    "            \n",
    "            0   T-shirt/top\n",
    "            1 \tTrouser\n",
    "            2 \tPullover\n",
    "            3 \tDress\n",
    "            4 \tCoat\n",
    "            5 \tSandal\n",
    "            6 \tShirt\n",
    "            7 \tSneaker\n",
    "            8 \tBag\n",
    "            9 \tAnkle boot\n"
   ]
  },
  {
   "cell_type": "markdown",
   "id": "ccfab9f9",
   "metadata": {},
   "source": [
    "## 2.1.1 Importing essential Libariers"
   ]
  },
  {
   "cell_type": "code",
   "execution_count": 121,
   "id": "ade8741c",
   "metadata": {},
   "outputs": [],
   "source": [
    "import tensorflow as tf\n",
    "import matplotlib.pyplot as plt\n",
    "\n",
    "from tensorflow.keras.layers import Conv2D,MaxPool2D,GlobalMaxPool1D,Input,Dense,Flatten\n",
    "from tensorflow.keras.models import Sequential\n",
    "from tensorflow.keras.losses import SparseCategoricalCrossentropy,CategoricalCrossentropy\n",
    "from tensorflow.keras.optimizers import Adam,SGD\n",
    "from tensorflow.keras.callbacks import EarlyStopping,TensorBoard\n",
    "import datetime\n",
    "\n",
    "import numpy as np\n",
    "import pandas as pd\n",
    "from sklearn.metrics import confusion_matrix,accuracy_score\n",
    "\n",
    "from tensorflow.keras.utils import to_categorical"
   ]
  },
  {
   "cell_type": "markdown",
   "id": "0b20aac7",
   "metadata": {},
   "source": [
    "# 2.1.2 Loading Data"
   ]
  },
  {
   "cell_type": "code",
   "execution_count": 201,
   "id": "70443778",
   "metadata": {},
   "outputs": [],
   "source": [
    "(x_train, y_train), (x_test, y_test) = tf.keras.datasets.fashion_mnist.load_data()"
   ]
  },
  {
   "cell_type": "markdown",
   "id": "64d840be",
   "metadata": {},
   "source": [
    "# 2.2 Sample Image and its description"
   ]
  },
  {
   "cell_type": "code",
   "execution_count": 202,
   "id": "e8ee7d6e",
   "metadata": {},
   "outputs": [
    {
     "name": "stdout",
     "output_type": "stream",
     "text": [
      "AxesImage(80,52.8;496x369.6)\n",
      "Label = 0\n",
      "Pixel size = (28, 28)\n"
     ]
    },
    {
     "data": {
      "image/png": "[encoded data removed]",
      "text/plain": [
       "<Figure size 640x480 with 1 Axes>"
      ]
     },
     "metadata": {},
     "output_type": "display_data"
    }
   ],
   "source": [
    "print(plt.imshow(x_train[1],cmap=plt.get_cmap('gray')))\n",
    "print(f\"Label = {y_train[1]}\")\n",
    "print(f\"Pixel size = {x_train.shape[1:]}\")"
   ]
  },
  {
   "cell_type": "markdown",
   "id": "a261a9a2",
   "metadata": {},
   "source": [
    "# 3. Preprocessing data\n",
    "\n",
    "The image pixels values ranging between(0-255) Neural Nets are sensitive to the numbers,so normalizing the pixel values  between(0-1) can make training faster and smoother also reshaping them into single channel for training purpose.\n",
    "\n",
    "Label column has numbers ranging between(0-9), transforming them into one-hot representation for better classification problem"
   ]
  },
  {
   "cell_type": "code",
   "execution_count": 203,
   "id": "aff3c287",
   "metadata": {},
   "outputs": [],
   "source": [
    "# for image pixels\n",
    "def preprocess(data):\n",
    "    data = data.astype('float32')\n",
    "    data = data/255.0\n",
    "    data = data.reshape((data.shape[0],28,28,1))\n",
    "    return data\n",
    "\n",
    "# for labels\n",
    "def process_label(data):\n",
    "    data = to_categorical(data)\n",
    "    return data"
   ]
  },
  {
   "cell_type": "code",
   "execution_count": 204,
   "id": "2cb06f78",
   "metadata": {},
   "outputs": [],
   "source": [
    "x_train = preprocess(x_train)\n",
    "x_test = preprocess(x_test)\n",
    "\n",
    "y_train = process_label(y_train)"
   ]
  },
  {
   "cell_type": "code",
   "execution_count": 205,
   "id": "d5286be5",
   "metadata": {},
   "outputs": [
    {
     "name": "stdout",
     "output_type": "stream",
     "text": [
      "training sample shape is (28, 28, 1) and label sample shape is (10,)\n"
     ]
    }
   ],
   "source": [
    "print(f\"training sample shape is {x_train[0].shape} and label sample shape is {y_train[0].shape}\")"
   ]
  },
  {
   "cell_type": "markdown",
   "id": "0cd6408d",
   "metadata": {},
   "source": [
    "# 3.1.1 Sample image values"
   ]
  },
  {
   "cell_type": "code",
   "execution_count": 228,
   "id": "935ed952",
   "metadata": {},
   "outputs": [
    {
     "data": {
      "text/plain": [
       "array([[[0.        ],\n",
       "        [0.        ],\n",
       "        [0.        ],\n",
       "        [0.        ],\n",
       "        [0.        ],\n",
       "        [0.        ],\n",
       "        [0.        ],\n",
       "        [0.        ],\n",
       "        [0.        ],\n",
       "        [0.        ],\n",
       "        [0.        ],\n",
       "        [0.        ],\n",
       "        [0.00392157],\n",
       "        [0.        ],\n",
       "        [0.        ],\n",
       "        [0.05098039],\n",
       "        [0.28627452],\n",
       "        [0.        ],\n",
       "        [0.        ],\n",
       "        [0.00392157],\n",
       "        [0.01568628],\n",
       "        [0.        ],\n",
       "        [0.        ],\n",
       "        [0.        ],\n",
       "        [0.        ],\n",
       "        [0.00392157],\n",
       "        [0.00392157],\n",
       "        [0.        ]]], dtype=float32)"
      ]
     },
     "execution_count": 228,
     "metadata": {},
     "output_type": "execute_result"
    }
   ],
   "source": [
    "x_train[0][3:4]"
   ]
  },
  {
   "cell_type": "markdown",
   "id": "16a5f52d",
   "metadata": {},
   "source": [
    "# 3.1.2 Sample label"
   ]
  },
  {
   "cell_type": "code",
   "execution_count": 120,
   "id": "4854fe78",
   "metadata": {},
   "outputs": [
    {
     "data": {
      "text/plain": [
       "array([0., 0., 0., 0., 0., 0., 0., 0., 0., 1.], dtype=float32)"
      ]
     },
     "execution_count": 120,
     "metadata": {},
     "output_type": "execute_result"
    }
   ],
   "source": [
    "y_train[0]"
   ]
  },
  {
   "cell_type": "markdown",
   "id": "bf21ce0f",
   "metadata": {},
   "source": [
    "# 4. Defining CNN Model"
   ]
  },
  {
   "cell_type": "code",
   "execution_count": 111,
   "id": "162ef28e",
   "metadata": {},
   "outputs": [],
   "source": [
    "model = Sequential([\n",
    "    Input(shape=(28,28,1)), \n",
    "    Conv2D(64,(10,10),activation='relu'),\n",
    "    MaxPool2D(64,(2,2),padding='same'),\n",
    "    Conv2D(128,(6,6),activation='relu'),\n",
    "    MaxPool2D(64,(2,2),padding='same'),\n",
    "    Conv2D(128,(3,3),activation='relu'),\n",
    "    MaxPool2D(64,(2,2),padding='same'),\n",
    "    Flatten(),\n",
    "    Dense(32,activation='relu'),\n",
    "    Dense(10,activation='softmax') # returns probablities for each label\n",
    "])"
   ]
  },
  {
   "cell_type": "code",
   "execution_count": 112,
   "id": "8f674a9f",
   "metadata": {},
   "outputs": [],
   "source": [
    "model.compile(Adam(1e-4),CategoricalCrossentropy(),['accuracy'])"
   ]
  },
  {
   "cell_type": "code",
   "execution_count": 122,
   "id": "12054c48",
   "metadata": {},
   "outputs": [],
   "source": [
    "# For tracking model and autostopping when loss is not decreasing\n",
    "log_dir = \"logs/fit/\" + datetime.datetime.now().strftime(\"%Y%m%d-%H%M%S\")\n",
    "tensorboard_callback = TensorBoard(log_dir=log_dir, histogram_freq=1)\n",
    "\n",
    "early_stopping = EarlyStopping(\n",
    "    monitor='val_loss',\n",
    "    patience=5,\n",
    "    verbose=2,\n",
    "    restore_best_weights=True,\n",
    ")"
   ]
  },
  {
   "cell_type": "markdown",
   "id": "be67064e",
   "metadata": {},
   "source": [
    "# 5. Training Model"
   ]
  },
  {
   "cell_type": "code",
   "execution_count": 115,
   "id": "9233cfcf",
   "metadata": {},
   "outputs": [
    {
     "name": "stdout",
     "output_type": "stream",
     "text": [
      "Epoch 1/30\n",
      "1875/1875 [==============================] - 32s 17ms/step - loss: 1.4598 - accuracy: 0.4650 - val_loss: 1.0990 - val_accuracy: 0.6007\n",
      "Epoch 2/30\n",
      "1875/1875 [==============================] - 32s 17ms/step - loss: 0.9699 - accuracy: 0.6408 - val_loss: 0.9405 - val_accuracy: 0.6476\n",
      "Epoch 3/30\n",
      "1875/1875 [==============================] - 32s 17ms/step - loss: 0.8511 - accuracy: 0.6767 - val_loss: 0.8239 - val_accuracy: 0.6906\n",
      "Epoch 4/30\n",
      "1875/1875 [==============================] - 32s 17ms/step - loss: 0.7809 - accuracy: 0.7022 - val_loss: 0.7574 - val_accuracy: 0.7167\n",
      "Epoch 5/30\n",
      "1875/1875 [==============================] - 32s 17ms/step - loss: 0.7366 - accuracy: 0.7182 - val_loss: 0.7256 - val_accuracy: 0.7198\n",
      "Epoch 6/30\n",
      "1875/1875 [==============================] - 32s 17ms/step - loss: 0.7080 - accuracy: 0.7291 - val_loss: 0.6976 - val_accuracy: 0.7320\n",
      "Epoch 7/30\n",
      "1875/1875 [==============================] - 32s 17ms/step - loss: 0.6836 - accuracy: 0.7413 - val_loss: 0.6823 - val_accuracy: 0.7394\n",
      "Epoch 8/30\n",
      "1875/1875 [==============================] - 32s 17ms/step - loss: 0.6612 - accuracy: 0.7515 - val_loss: 0.6561 - val_accuracy: 0.7560\n",
      "Epoch 9/30\n",
      "1875/1875 [==============================] - 32s 17ms/step - loss: 0.6441 - accuracy: 0.7598 - val_loss: 0.6497 - val_accuracy: 0.7570\n",
      "Epoch 10/30\n",
      "1875/1875 [==============================] - 32s 17ms/step - loss: 0.6274 - accuracy: 0.7657 - val_loss: 0.6833 - val_accuracy: 0.7435\n",
      "Epoch 11/30\n",
      "1875/1875 [==============================] - 32s 17ms/step - loss: 0.6136 - accuracy: 0.7709 - val_loss: 0.6067 - val_accuracy: 0.7746\n",
      "Epoch 12/30\n",
      "1875/1875 [==============================] - 32s 17ms/step - loss: 0.5990 - accuracy: 0.7778 - val_loss: 0.6132 - val_accuracy: 0.7724\n",
      "Epoch 13/30\n",
      "1875/1875 [==============================] - 32s 17ms/step - loss: 0.5881 - accuracy: 0.7812 - val_loss: 0.5850 - val_accuracy: 0.7848\n",
      "Epoch 14/30\n",
      "1875/1875 [==============================] - 32s 17ms/step - loss: 0.5782 - accuracy: 0.7848 - val_loss: 0.6312 - val_accuracy: 0.7676\n",
      "Epoch 15/30\n",
      "1875/1875 [==============================] - 32s 17ms/step - loss: 0.5678 - accuracy: 0.7909 - val_loss: 0.5688 - val_accuracy: 0.7894\n",
      "Epoch 16/30\n",
      "1875/1875 [==============================] - 32s 17ms/step - loss: 0.5568 - accuracy: 0.7932 - val_loss: 0.6111 - val_accuracy: 0.7775\n",
      "Epoch 17/30\n",
      "1875/1875 [==============================] - 32s 17ms/step - loss: 0.5505 - accuracy: 0.7978 - val_loss: 0.5526 - val_accuracy: 0.7938\n",
      "Epoch 18/30\n",
      "1875/1875 [==============================] - 32s 17ms/step - loss: 0.5383 - accuracy: 0.8003 - val_loss: 0.5526 - val_accuracy: 0.7921\n",
      "Epoch 19/30\n",
      "1875/1875 [==============================] - 32s 17ms/step - loss: 0.5294 - accuracy: 0.8051 - val_loss: 0.5605 - val_accuracy: 0.7900\n",
      "Epoch 20/30\n",
      "1875/1875 [==============================] - 32s 17ms/step - loss: 0.5237 - accuracy: 0.8059 - val_loss: 0.5394 - val_accuracy: 0.7982\n",
      "Epoch 21/30\n",
      "1875/1875 [==============================] - 32s 17ms/step - loss: 0.5128 - accuracy: 0.8121 - val_loss: 0.5452 - val_accuracy: 0.8006\n",
      "Epoch 22/30\n",
      "1875/1875 [==============================] - 32s 17ms/step - loss: 0.5054 - accuracy: 0.8140 - val_loss: 0.5368 - val_accuracy: 0.7992\n",
      "Epoch 23/30\n",
      "1875/1875 [==============================] - 32s 17ms/step - loss: 0.4980 - accuracy: 0.8169 - val_loss: 0.5291 - val_accuracy: 0.8053\n",
      "Epoch 24/30\n",
      "1875/1875 [==============================] - 32s 17ms/step - loss: 0.4893 - accuracy: 0.8199 - val_loss: 0.5377 - val_accuracy: 0.8055\n",
      "Epoch 25/30\n",
      "1875/1875 [==============================] - 32s 17ms/step - loss: 0.4807 - accuracy: 0.8248 - val_loss: 0.5183 - val_accuracy: 0.8078\n",
      "Epoch 26/30\n",
      "1875/1875 [==============================] - 32s 17ms/step - loss: 0.4740 - accuracy: 0.8267 - val_loss: 0.5073 - val_accuracy: 0.8118\n",
      "Epoch 27/30\n",
      "1875/1875 [==============================] - 32s 17ms/step - loss: 0.4637 - accuracy: 0.8298 - val_loss: 0.5086 - val_accuracy: 0.8105\n",
      "Epoch 28/30\n",
      "1875/1875 [==============================] - 32s 17ms/step - loss: 0.4577 - accuracy: 0.8334 - val_loss: 0.4774 - val_accuracy: 0.8269\n",
      "Epoch 29/30\n",
      "1875/1875 [==============================] - 32s 17ms/step - loss: 0.4489 - accuracy: 0.8364 - val_loss: 0.4736 - val_accuracy: 0.8276\n",
      "Epoch 30/30\n",
      "1875/1875 [==============================] - 32s 17ms/step - loss: 0.4419 - accuracy: 0.8395 - val_loss: 0.4676 - val_accuracy: 0.8249\n"
     ]
    }
   ],
   "source": [
    "history = model.fit(x_train,y_train,epochs=30,validation_data=(x_test,y_test),callbacks=[tensorboard_callback,early_stopping])"
   ]
  },
  {
   "cell_type": "markdown",
   "id": "0c71f6af",
   "metadata": {},
   "source": [
    "# 6. Training results"
   ]
  },
  {
   "cell_type": "code",
   "execution_count": 164,
   "id": "44444a7f",
   "metadata": {},
   "outputs": [
    {
     "data": {
      "text/plain": [
       "<matplotlib.legend.Legend at 0x1d8821cb3a0>"
      ]
     },
     "execution_count": 164,
     "metadata": {},
     "output_type": "execute_result"
    },
    {
     "data": {
      "image/png": "[encoded data removed]",
      "text/plain": [
       "<Figure size 640x480 with 1 Axes>"
      ]
     },
     "metadata": {},
     "output_type": "display_data"
    }
   ],
   "source": [
    "import seaborn as sns\n",
    "\n",
    "sns.set_style('whitegrid')\n",
    "\n",
    "loss = history.history['loss']\n",
    "accuracy = history.history['accuracy']\n",
    "val_loss = history.history['val_loss']\n",
    "val_accuracy = history.history['val_accuracy']\n",
    "\n",
    "\n",
    "fig = plt.gcf()\n",
    "fig.set_dpi(100)\n",
    "\n",
    "\n",
    "plt.plot(loss,label='Loss')\n",
    "plt.plot(accuracy,label='Accuracy')\n",
    "plt.title('Training Loss and Accuracy')\n",
    "plt.xlabel('Epochs')\n",
    "plt.legend()"
   ]
  },
  {
   "cell_type": "code",
   "execution_count": 162,
   "id": "5ddcaeeb",
   "metadata": {},
   "outputs": [
    {
     "data": {
      "text/plain": [
       "<matplotlib.legend.Legend at 0x1d8821a1f70>"
      ]
     },
     "execution_count": 162,
     "metadata": {},
     "output_type": "execute_result"
    },
    {
     "data": {
      "image/png": "[encoded data removed]",
      "text/plain": [
       "<Figure size 640x480 with 1 Axes>"
      ]
     },
     "metadata": {},
     "output_type": "display_data"
    }
   ],
   "source": [
    "fig = plt.gcf()\n",
    "fig.set_dpi(100)\n",
    "\n",
    "\n",
    "plt.plot(val_loss,label='Loss')\n",
    "plt.plot(val_accuracy,label='Accuracy')\n",
    "plt.title('Validation Loss and Accuracy')\n",
    "plt.xlabel('Epochs')\n",
    "plt.legend()"
   ]
  },
  {
   "cell_type": "markdown",
   "id": "7b85f571",
   "metadata": {},
   "source": [
    "# 7. Testing the Model"
   ]
  },
  {
   "cell_type": "code",
   "execution_count": 168,
   "id": "72145224",
   "metadata": {},
   "outputs": [
    {
     "name": "stdout",
     "output_type": "stream",
     "text": [
      "313/313 [==============================] - 2s 7ms/step\n"
     ]
    },
    {
     "data": {
      "text/plain": [
       "array([6.6968325e-10, 1.2622734e-14, 1.3963569e-10, 8.6313499e-08,\n",
       "       1.4056071e-11, 6.5430785e-03, 8.1915114e-10, 3.3385486e-03,\n",
       "       1.2112969e-05, 9.9010617e-01], dtype=float32)"
      ]
     },
     "execution_count": 168,
     "metadata": {},
     "output_type": "execute_result"
    }
   ],
   "source": [
    "# gives the probablity value of each label being true\n",
    "y_predicted = model.predict(x_test)\n",
    "\n",
    "y_predicted[0]"
   ]
  },
  {
   "cell_type": "code",
   "execution_count": 172,
   "id": "de4b911c",
   "metadata": {},
   "outputs": [],
   "source": [
    "# we can use argmax to get the highest probablity value among all the 10 labels for each sample\n",
    "y_predicted = np.argmax(y_predicted,axis=1)"
   ]
  },
  {
   "cell_type": "markdown",
   "id": "3704bd69",
   "metadata": {},
   "source": [
    "# 8. Evaluating Testing Results"
   ]
  },
  {
   "cell_type": "code",
   "execution_count": 180,
   "id": "7d464ea5",
   "metadata": {},
   "outputs": [
    {
     "name": "stdout",
     "output_type": "stream",
     "text": [
      "True Labels of x_test if [9 2 1 ... 8 1 5]\n",
      "predicted Labels of x_test if [9 2 1 ... 8 1 7]\n"
     ]
    }
   ],
   "source": [
    "# true labels of x_test\n",
    "print(f\"True Labels of x_test if {y_test}\")\n",
    "print(f\"predicted Labels of x_test if {y_predicted}\")"
   ]
  },
  {
   "cell_type": "code",
   "execution_count": 210,
   "id": "056517ff",
   "metadata": {},
   "outputs": [
    {
     "name": "stdout",
     "output_type": "stream",
     "text": [
      "CONFUSION MATRIX \n",
      "\n",
      "[[820   0   9  68   7   2  81   0  13   0]\n",
      " [  0 953   4  38   0   0   5   0   0   0]\n",
      " [ 16   2 784  14  91   0  88   0   5   0]\n",
      " [ 41  13  12 885  16   1  29   0   2   1]\n",
      " [  3   3 193  61 599   0 135   0   6   0]\n",
      " [  0   0   0   1   0 939   0  35   2  23]\n",
      " [271   4 113  49  81   0 468   0  14   0]\n",
      " [  0   0   0   0   0  15   0 904   0  81]\n",
      " [  7   0   1   6   8  14  25   6 933   0]\n",
      " [  1   0   0   1   0  12   0  22   0 964]]\n",
      "\n",
      "Accuracy score for TEST-SET is 0.8249\n"
     ]
    }
   ],
   "source": [
    "print(f\"CONFUSION MATRIX \\n\\n{confusion_matrix(y_test,y_predicted)}\\n\")\n",
    "accuracy_test = accuracy_score(y_test,y_predicted)\n",
    "print(f\"Accuracy score for TEST-SET is {accuracy_test}\")"
   ]
  },
  {
   "cell_type": "markdown",
   "id": "99031c26",
   "metadata": {},
   "source": [
    "# Conclusion:\n"
   ]
  },
  {
   "cell_type": "code",
   "execution_count": 225,
   "id": "3fb061ea",
   "metadata": {},
   "outputs": [
    {
     "data": {
      "text/html": [
       "<div>\n",
       "<style scoped>\n",
       "    .dataframe tbody tr th:only-of-type {\n",
       "        vertical-align: middle;\n",
       "    }\n",
       "\n",
       "    .dataframe tbody tr th {\n",
       "        vertical-align: top;\n",
       "    }\n",
       "\n",
       "    .dataframe thead th {\n",
       "        text-align: right;\n",
       "    }\n",
       "</style>\n",
       "<table border=\"1\" class=\"dataframe\">\n",
       "  <thead>\n",
       "    <tr style=\"text-align: right;\">\n",
       "      <th></th>\n",
       "      <th>Training-set</th>\n",
       "      <th>Test-Set</th>\n",
       "    </tr>\n",
       "    <tr>\n",
       "      <th>RESULTS</th>\n",
       "      <th></th>\n",
       "      <th></th>\n",
       "    </tr>\n",
       "  </thead>\n",
       "  <tbody>\n",
       "    <tr>\n",
       "      <th>LOSS</th>\n",
       "      <td>0.441873</td>\n",
       "      <td>0.467561</td>\n",
       "    </tr>\n",
       "    <tr>\n",
       "      <th>ACCURACY</th>\n",
       "      <td>0.839483</td>\n",
       "      <td>0.824900</td>\n",
       "    </tr>\n",
       "  </tbody>\n",
       "</table>\n",
       "</div>"
      ],
      "text/plain": [
       "          Training-set  Test-Set\n",
       "RESULTS                         \n",
       "LOSS          0.441873  0.467561\n",
       "ACCURACY      0.839483  0.824900"
      ]
     },
     "execution_count": 225,
     "metadata": {},
     "output_type": "execute_result"
    }
   ],
   "source": [
    "tr_loss = loss[-1]\n",
    "tr_accuracy = accuracy[-1]\n",
    "\n",
    "test_accuracy = accuracy_test\n",
    "test_loss = val_loss[-1]\n",
    "\n",
    "results = pd.DataFrame()\n",
    "results['Training-set'] = [tr_loss,tr_accuracy]\n",
    "results['Test-Set'] = [test_loss,test_accuracy]\n",
    "results['RESULTS'] = ['LOSS','ACCURACY']\n",
    "results.set_index('RESULTS')"
   ]
  },
  {
   "cell_type": "code",
   "execution_count": null,
   "id": "652fabf4",
   "metadata": {},
   "outputs": [],
   "source": [
    "# END #"
   ]
  }
 ],
 "metadata": {
  "kernelspec": {
   "display_name": "Python 3 (ipykernel)",
   "language": "python",
   "name": "python3"
  },
  "language_info": {
   "codemirror_mode": {
    "name": "ipython",
    "version": 3
   },
   "file_extension": ".py",
   "mimetype": "text/x-python",
   "name": "python",
   "nbconvert_exporter": "python",
   "pygments_lexer": "ipython3",
   "version": "3.9.15"
  }
 },
 "nbformat": 4,
 "nbformat_minor": 5
}
